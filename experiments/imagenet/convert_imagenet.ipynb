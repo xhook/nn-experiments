{
 "cells": [
  {
   "cell_type": "code",
   "execution_count": 3,
   "metadata": {},
   "outputs": [],
   "source": [
    "import pandas as pd\n",
    "from smart_open import open"
   ]
  },
  {
   "cell_type": "code",
   "execution_count": 10,
   "metadata": {},
   "outputs": [],
   "source": [
    "image_net_path = 'http://192.168.4.181:5080/ILSVRC'\n",
    "train_base_path = f'{image_net_path}/Data/CLS-LOC/train/'\n",
    "val_base_path = f'{image_net_path}/Data/CLS-LOC/validation/'\n",
    "train_txt_file = f'{image_net_path}/ImageSets/CLS-LOC/train_cls.txt'\n",
    "val_index_label_mapping_file = 'http://192.168.4.181:5080/ILSVRC2012_mapping_1000.txt'\n",
    "val_labels_file = 'http://192.168.4.181:5080/ILSVRC2012_validation_ground_truth.txt'\n",
    "human_readable_labels_file = 'http://192.168.4.181:5080/imagenet1000_clsidx_to_labels.txt'"
   ]
  },
  {
   "cell_type": "code",
   "execution_count": 11,
   "metadata": {},
   "outputs": [],
   "source": [
    "with open(train_txt_file) as f:\n",
    "    train_txt_lines = f.readlines()"
   ]
  },
  {
   "cell_type": "code",
   "execution_count": 12,
   "metadata": {},
   "outputs": [],
   "source": [
    "with open(val_index_label_mapping_file) as f:\n",
    "    val_index_label_mapping_lines = (l.split(' ') for l in f.readlines())\n",
    "    val_index_label_mapping = {index:synset.strip() for index, synset in val_index_label_mapping_lines}"
   ]
  },
  {
   "cell_type": "code",
   "execution_count": 13,
   "metadata": {},
   "outputs": [],
   "source": [
    "with open(human_readable_labels_file) as f:\n",
    "    human_readable_labels_str = f.read()\n",
    "    index_to_human_readable_labels = dict(eval(human_readable_labels_str))"
   ]
  },
  {
   "cell_type": "code",
   "execution_count": 14,
   "metadata": {},
   "outputs": [],
   "source": [
    "train_base_names = [l.split(' ')[0] for l in train_txt_lines]\n",
    "train_paths = [f\"{train_base_path}{l}.JPEG\" for l in train_base_names]\n",
    "train_synset_labels = [l.split('/')[0] for l in train_base_names]\n",
    "synset_to_index_label = {label:index for index, label in enumerate(sorted(list(set(train_synset_labels))))}\n",
    "train_labels = [synset_to_index_label[sl] for sl in train_synset_labels]\n",
    "train_hr_labels = [index_to_human_readable_labels[l] for l in train_labels]\n",
    "train_df = pd.DataFrame({\n",
    "    'path':train_paths, \n",
    "    'label':train_labels, \n",
    "    'synset_label': train_synset_labels, \n",
    "    'human_readable_label':train_hr_labels\n",
    "})\n",
    "train_df.to_csv('imagenet_train.csv', index=False)"
   ]
  },
  {
   "cell_type": "code",
   "execution_count": 15,
   "metadata": {},
   "outputs": [],
   "source": [
    "with open(val_labels_file) as f:\n",
    "    val_synset_labels = [val_index_label_mapping[l.strip()] for l in f.readlines()]\n",
    "    val_labels = [synset_to_index_label[sl] for sl in val_synset_labels]\n",
    "    val_hr_labels = [index_to_human_readable_labels[l] for l in val_labels]\n",
    "    val_paths = [f'{val_base_path}ILSVRC2012_val_{i+1:08d}.JPEG' for i in range(len(val_labels))]\n",
    "    val_df = pd.DataFrame({\n",
    "        'path':val_paths,\n",
    "        'label':val_labels,\n",
    "        'synset_label':val_synset_labels,\n",
    "        'human_readable_label':val_hr_labels\n",
    "    })\n",
    "    val_df.to_csv('imagenet_val.csv', index=False)"
   ]
  },
  {
   "cell_type": "code",
   "execution_count": null,
   "metadata": {},
   "outputs": [],
   "source": []
  }
 ],
 "metadata": {
  "kernelspec": {
   "display_name": "p311",
   "language": "python",
   "name": "python3"
  },
  "language_info": {
   "codemirror_mode": {
    "name": "ipython",
    "version": 3
   },
   "file_extension": ".py",
   "mimetype": "text/x-python",
   "name": "python",
   "nbconvert_exporter": "python",
   "pygments_lexer": "ipython3",
   "version": "3.12.3"
  }
 },
 "nbformat": 4,
 "nbformat_minor": 2
}
